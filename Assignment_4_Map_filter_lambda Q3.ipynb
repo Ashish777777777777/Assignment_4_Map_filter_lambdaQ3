{
 "cells": [
  {
   "cell_type": "code",
   "execution_count": 6,
   "id": "e950c5e5",
   "metadata": {},
   "outputs": [
    {
     "name": "stdout",
     "output_type": "stream",
     "text": [
      "Sample list: [4, 5, 2, 9]\n",
      "Square of list elements:\n",
      "[16, 25, 4, 81]\n"
     ]
    }
   ],
   "source": [
    "def square_number(n):\n",
    "    return n ** 2\n",
    "\n",
    "sample_list = [4, 5, 2, 9]\n",
    "\n",
    "squared_list = list(map(square_number, sample_list))\n",
    "\n",
    "print(\"Sample list:\", sample_list)\n",
    "print(\"Square of list elements:\")\n",
    "print(squared_list)\n"
   ]
  },
  {
   "cell_type": "code",
   "execution_count": null,
   "id": "a78e4542",
   "metadata": {},
   "outputs": [],
   "source": []
  }
 ],
 "metadata": {
  "kernelspec": {
   "display_name": "Python 3 (ipykernel)",
   "language": "python",
   "name": "python3"
  },
  "language_info": {
   "codemirror_mode": {
    "name": "ipython",
    "version": 3
   },
   "file_extension": ".py",
   "mimetype": "text/x-python",
   "name": "python",
   "nbconvert_exporter": "python",
   "pygments_lexer": "ipython3",
   "version": "3.10.9"
  }
 },
 "nbformat": 4,
 "nbformat_minor": 5
}
